{
 "cells": [
  {
   "cell_type": "markdown",
   "id": "6d3bc760-525d-49b2-ad8a-91f69adc5c87",
   "metadata": {},
   "source": [
    "# 載入模組"
   ]
  },
  {
   "cell_type": "code",
   "execution_count": 1,
   "id": "de53a6b7-c1c1-44d6-90ee-d529bc80b932",
   "metadata": {},
   "outputs": [],
   "source": [
    "import requests\n",
    "from bs4 import BeautifulSoup\n",
    "import pandas as pd"
   ]
  },
  {
   "cell_type": "markdown",
   "id": "901aa3cd-9fcc-4504-acb1-6b642b192baf",
   "metadata": {},
   "source": [
    "# 取得網頁"
   ]
  },
  {
   "cell_type": "code",
   "execution_count": 2,
   "id": "ab3b4e3d-bce2-491a-8dc1-c5c8596098b5",
   "metadata": {},
   "outputs": [
    {
     "data": {
      "text/plain": [
       "'\\r\\n\\r\\n<html>\\r\\n<head>\\r\\n\\t<title>公開資訊觀測站</title>\\r\\n\\t<link href=\"css/css1.css\" rel=\"stylesheet\" type=\"text/css\" Media=\"Screen\"/> \\r\\n<!--\\t<script type=\"text/javascript\" src=\"js/mops1.js\"></script> -->\\r\\n</head>\\r\\n\\r\\n<body>\\r\\n<!_co_id_hhc=2330__>\\r\\n<table class=\\'noBorder\\' width=\\'80%\\'>\\r\\n<tr><td align=\\'center\\' class=\\'compName\\'>\\r\\n<b>\\r\\n本資料由\\u3000<span style=\\'color:blue;\\'>(上市公司)\\r\\n台積電</span>\\u3000公司提供</b>\\r\\n</td></tr></table>\\r\\n<table class=\\'hasBorder\\' width=95%>\\r\\n<tr>\\r\\n<th class=\\'dColor nowrap\\' style=\\'text-align:left !important;\\'>股票代號</th><td class=\\'lColor\\'>2330</td>\\r\\n<th class=\\'dColor nowrap\\' style=\\'text-align:left !important;\\'>產業類別</th>\\r\\n<td nowrap class=\\'lColor\\'>半導體業                &nbsp;</td><th class=\\'dColor nowrap\\' style=\\'text-align:left !important;\\'>外國企業註冊地國</th>\\r\\n<td class=\\'lColor nowrap\\' colspan=\\'2\\' style=\\'text-align:center !important; font-family:arial;\\'>－</td>\\r\\n<tr>\\r\\n<th colspan=2 class=\\'dColor nowrap\\' style=\\'text-align:left !important;\\'>公司名稱</th>\\r\\n<td class=\\'lColor\\'>台灣積體電路製造股份有限公司</td><th colspan=2 class=\\'dColor nowrap\\' style=\\'text-align:left !important;\\'>總機</th>\\r\\n<td class=\\'lColor\\' colspan=\\'2\\'>03-5636688</td><tr>\\r\\n<th colspan=2 class=\\'dColor nowrap\\' style=\\'text-align:left !important;\\'>地址</th>\\r\\n<td colspan=5 class=\\'lColor\\'>新竹科學園區力行六路8號</td><tr>\\r\\n<th colspan=2 class=\\'dColor nowrap\\' style=\\'text-align:left !important;\\'>董事長</th>\\r\\n<td class=\\'lColor\\'>劉德音</td><th colspan=2 class=\\'dColor nowrap\\' style=\\'text-align:left !important;\\'>總經理</th>\\r\\n<td class=\\'lColor\\' colspan=\\'2\\'>總裁: 魏哲家</td><tr>\\r\\n<th colspan=2 class=\\'dColor nowrap\\' style=\\'text-align:left !important;\\'>發言人</th>\\r\\n<td class=\\'lColor\\'>黃仁昭</td><th colspan=2 class=\\'dColor nowrap\\' style=\\'text-align:left !important;\\'>發言人職稱</th>\\r\\n<td class=\\'lColor\\' colspan=\\'2\\'>副總經理暨財務長</td><tr>\\r\\n<th colspan=2 class=\\'dColor nowrap\\' style=\\'text-align:left !important;\\'>發言人電話</th>\\r\\n<td class=\\'lColor\\'>03-563-6688</td><th colspan=2 class=\\'dColor nowrap\\' style=\\'text-align:left !important;\\'>代理發言人</th>\\r\\n<td class=\\'lColor\\' colspan=\\'2\\'>高孟華</td><tr>\\r\\n<th colspan=2 class=\\'dColor nowrap\\' style=\\'text-align:left !important;\\'>主要經營業務</th>\\r\\n<td colspan=5 class=\\'lColor\\'>依客戶之訂單與其提供之產品設計說明，以從事製造與銷售積體電路<BR>以及其他晶圓半導體裝置。提供前述產品之封裝與測試服務、積體電<BR>路之電腦輔助設計技術服務。提供製造光罩及其設計服務。</td><tr>\\r\\n<th colspan=2 class=\\'dColor nowrap\\' style=\\'text-align:left !important;\\'>公司成立日期</th>\\r\\n<td class=\\'lColor\\'>76/02/21</td>\\r\\n<th colspan=2 class=\\'dColor nowrap\\' style=\\'text-align:left !important;\\'>營利事業統一編號</th>\\r\\n<td class=\\'lColor\\' colspan=\\'2\\'>22099131</td><tr>\\r\\n<th colspan=2 class=\\'dColor nowrap\\' style=\\'text-align:left !important;\\'>實收資本額</th>\\r\\n<td class=\\'lColor\\'>    259,303,804,580元</td>\\r\\n<th colspan=2 class=\\'dColor nowrap\\' style=\\'text-align:left !important;\\'>上市日期</th>\\r\\n<td class=\\'lColor\\' colspan=\\'2\\'>83/09/05</td>\\r\\n<tr>\\r\\n<th colspan=2 class=\\'dColor nowrap\\' style=\\'text-align:left !important;\\'>上櫃日期</th>\\r\\n<td class=\\'lColor\\'>&nbsp</td>\\r\\n<th colspan=2 class=\\'dColor nowrap\\' style=\\'text-align:left !important;\\'>興櫃日期</th>\\r\\n<td class=\\'lColor\\' colspan=\\'2\\'>&nbsp</td>\\r\\n<tr>\\r\\n<th colspan=2 class=\\'dColor nowrap\\' style=\\'text-align:left !important;\\'>公開發行日期</th>\\r\\n<td class=\\'lColor\\'>&nbsp</td>\\r\\n<th colspan=2 class=\\'dColor nowrap\\' style=\\'text-align:left !important;\\'>普通股每股面額</th>\\r\\n<td class=\\'lColor\\' colspan=\\'2\\'>新台幣                 10.0000元</td><tr>\\r\\n<th colspan=2 class=\\'dColor nowrap\\' style=\\'text-align:left !important;\\'>已發行普通股數或TDR原股發行股數</th>\\r\\n<td class=\\'lColor\\'>     25,930,380,458股\\r\\n(含私募                  0股)\\r\\n</td>\\r\\n<th colspan=2 class=\\'dColor nowrap\\' style=\\'text-align:left !important;\\'>特別股</th>\\r\\n<td class=\\'lColor\\' colspan=\\'2\\'>                  0股</td>\\r\\n<tr>\\r\\n<th colspan=2 class=\\'dColor nowrap\\' style=\\'text-align:left !important;\\'>普通股盈餘分派或虧損撥補頻率</th>\\r\\n<td class=\\'lColor\\'>每季</td>\\r\\n<th colspan=2 class=\\'dColor nowrap\\' style=\\'text-align:left !important;\\'>普通股年度 (含第4季或後半年度)現金股息及紅利決議層級</th>\\r\\n<td class=\\'lColor\\' colspan=\\'2\\'>董事會</td>\\r\\n<tr>\\r\\n<th colspan=2 class=\\'dColor nowrap\\' style=\\'text-align:left !important;\\'>股票過戶機構</th>\\r\\n<td class=\\'lColor\\'>中國信託商業銀行 代理部</td><th colspan=2 class=\\'dColor nowrap\\' style=\\'text-align:left !important;\\'>電話</th>\\r\\n<td class=\\'lColor\\' colspan=\\'2\\'>02-6636-5566</td><tr>\\r\\n<th colspan=2 class=\\'dColor nowrap\\' style=\\'text-align:left !important;\\'>過戶地址</th>\\r\\n<td colspan=5 class=\\'lColor\\'>台北市重慶南路一段83號5樓</td><tr>\\r\\n<th colspan=2 class=\\'dColor nowrap\\' style=\\'text-align:left !important;\\'>簽證會計師事務所</th>\\r\\n<td colspan=5 class=\\'lColor\\'>勤業眾信聯合會計師事務所</td><tr>\\r\\n<th colspan=2 class=\\'dColor nowrap\\' style=\\'text-align:left !important;\\'>簽證會計師1</th>\\r\\n<td colspan=5 class=\\'lColor\\'>江美艷</td><tr>\\r\\n<th colspan=2 class=\\'dColor nowrap\\' style=\\'text-align:left !important;\\'>簽證會計師2</th>\\r\\n<td colspan=5 class=\\'lColor\\'>林尚志</td><tr>\\r\\n<th colspan=2 class=\\'dColor nowrap\\' style=\\'text-align:left !important;\\'>備註</th>\\r\\n<td colspan=5 class=\\'lColor\\'>&nbsp;\\u3000</td><tr>\\r\\n<th class=\\'dColor nowrap\\' style=\\'text-align:left !important;\\'>本公司</th>\\r\\n<td class=\\'lColor\\'>無</td>\\r\\n<th class=\\'dColor nowrap\\' style=\\'text-align:left !important;\\'>特別股發行</th>\\r\\n<th class=\\'dColor nowrap\\' style=\\'text-align:left !important;\\'>本公司</th>\\r\\n<td class=\\'lColor\\'>有</td>\\r\\n<th class=\\'dColor nowrap\\' style=\\'text-align:left !important;\\' colspan=\\'2\\'>公司債發行</th><tr>\\r\\n<th colspan=2 class=\\'dColor nowrap\\' style=\\'text-align:left !important;\\'>英文簡稱</th>\\r\\n<td colspan=5 class=\\'lColor\\'>&nbsp;TSMC</td><tr><th colspan=2 class=\\'dColor nowrap\\' style=\\'text-align:left !important;\\'>英文全名</th>\\r\\n<td colspan=5 class=\\'lColor\\'>&nbsp;Taiwan Semiconductor Manufacturing Co., Ltd.</td><tr><th colspan=2 class=\\'dColor nowrap\\' style=\\'text-align:left !important;\\'>英文通訊地址(街巷弄號)</th>\\r\\n<td colspan=1 class=\\'lColor\\' colspan=\\'2\\'>&nbsp;No. 8, Li-Hsin Rd. 6, Hsinchu Science Park,</td><th colspan=2 class=\\'dColor nowrap\\' style=\\'text-align:left !important;\\'>英文通訊地址(縣市國別)</th>\\r\\n<td colspan=2 class=\\'lColor\\'>&nbsp;Hsin-Chu 30078, Taiwan, R.O.C.</td></tr><tr>\\r\\n<th colspan=2 class=\\'dColor nowrap\\' style=\\'text-align:left !important;\\'>傳真機號碼</th>\\r\\n<td class=\\'lColor\\'>&nbsp;03-5797337</td><th colspan=2 class=\\'dColor nowrap\\' style=\\'text-align:left !important;\\'>電子郵件信箱</th>\\r\\n<td class=\\'lColor\\' colspan=\\'2\\'>&nbsp;invest@tsmc.com</td><tr><th colspan=2 class=\\'dColor nowrap\\' style=\\'text-align:left !important;\\'>公司網址</th>\\r\\n<td colspan=5 class=\\'lColor\\'>&nbsp;<a href=Http://www.tsmc.com target=NEW_WINDOW>Http://www.tsmc.com</a></td><tr><th colspan=2 class=\\'dColor nowrap\\' style=\\'text-align:left !important;\\'>投資人關係聯絡人</th>\\r\\n<td colspan=1 class=\\'lColor\\' colspan=\\'2\\'>&nbsp;蘇志凱</td><th colspan=2 class=\\'dColor nowrap\\' style=\\'text-align:left !important;\\'>投資人關係聯絡人職稱</th>\\r\\n<td colspan=2 class=\\'lColor\\'>&nbsp;處長</td></tr><tr>\\r\\n<th colspan=2 class=\\'dColor nowrap\\' style=\\'text-align:left !important;\\'>投資人關係聯絡電話</th>\\r\\n<td class=\\'lColor\\'>&nbsp;03-568-2089</td><th colspan=2 class=\\'dColor nowrap\\' style=\\'text-align:left !important;\\'>投資人關係電子郵件</th>\\r\\n<td class=\\'lColor\\' colspan=\\'2\\'>&nbsp;jeff_su@tsmc.com</td><tr><th colspan=2 class=\\'dColor nowrap\\' style=\\'text-align:left !important;\\'>公司網站內利害<br>關係人專區網址</th>\\r\\n<td colspan=5 class=\\'lColor\\'>&nbsp;<a href=https://esg.tsmc.com/csr/ch/CSR/stakeholder.html target=NEW_WINDOW>https://esg.tsmc.com/csr/ch/CSR/stakeholder.html</a></td><tr><th class=\\'dColor nowrap\\' style=\\'text-align:left !important;\\'>變更前名稱</th>\\r\\n<td class=\\'lColor\\'>&nbsp;</td><th class=\\'dColor nowrap\\' style=\\'text-align:left !important;\\'>變更前簡稱</th>\\r\\n<td class=\\'lColor\\'>&nbsp;</td><th class=\\'dColor nowrap\\' style=\\'text-align:left !important;\\'>公司名稱變更核准日期</th>\\r\\n<td class=\\'lColor\\' colspan=\\'2\\'>0</td>\\r\\n</tr>\\r\\n</table>\\r\\n<br><br>\\r\\n<table class=\\'hasBorder\\' width=95%>\\r\\n<th class=\\'dColor nowrap\\' style=\\'text-align:left !important;\\'>本公司採</th>\\r\\n<td class=\\'lColor\\'>&nbsp;</td><th colspan=3 class=\\'dColor nowrap\\' style=\\'text-align:left !important;\\'>月制會計年度（空白表曆年制）</th>\\r\\n<tr>\\r\\n<th class=\\'dColor nowrap\\' style=\\'text-align:left !important;\\'>本公司於</th>\\r\\n<td class=\\'lColor\\'>&nbsp;</td><th class=\\'dColor nowrap\\' style=\\'text-align:left !important;\\'>之前採</th>\\r\\n<td>&nbsp;</td><th class=\\'dColor nowrap\\' style=\\'text-align:left !important;\\'>月制會計年度</th>\\r\\n</tr>\\r\\n<tr>\\r\\n<th colspan=\\'2\\' class=\\'dColor nowrap\\' style=\\'text-align:left !important;\\'>編製財務報告類型</th>\\r\\n<td colspan=\\'3\\' class=\\'lColor\\' style=\\'text-align:left !important;\\'>\\r\\n●合併○個別\\r\\n</td>\\r\\n</tr>\\r\\n</table><br><br>\\r\\n\\r\\n</body>\\r\\n</html>\\r\\n'"
      ]
     },
     "execution_count": 2,
     "metadata": {},
     "output_type": "execute_result"
    }
   ],
   "source": [
    "url = 'https://mops.twse.com.tw/mops/web/ajax_t05st03'\n",
    "headers = {'User-Agent': 'Mozilla/5.0 (Windows NT 10.0; Win64; x64) AppleWebKit/537.36 (KHTML, like Gecko) Chrome/96.0.4664.93 Safari/537.36'}\n",
    "payload = {\n",
    "    'encodeURIComponent':'1',\n",
    "    'step':'1',\n",
    "    'firstin':'1',\n",
    "    'off':'1',\n",
    "    'queryName':'co_id',\n",
    "    'inpuType':'co_id',\n",
    "    'TYPEK':'all',\n",
    "    'co_id':'2330',\n",
    "    }\n",
    "\n",
    "\n",
    "resp = requests.post(url, data=payload,headers = headers)\n",
    "resp.text"
   ]
  },
  {
   "cell_type": "markdown",
   "id": "568a1dbb-6303-45c3-820e-a517e2e3d41b",
   "metadata": {},
   "source": [
    "# 解析網頁"
   ]
  },
  {
   "cell_type": "code",
   "execution_count": 3,
   "id": "1df26c96-f67e-4a8e-a5b5-b79a32944b29",
   "metadata": {},
   "outputs": [
    {
     "data": {
      "text/plain": [
       "<table class=\"hasBorder\" width=\"95%\">\n",
       "<tr>\n",
       "<th class=\"dColor nowrap\" style=\"text-align:left !important;\">股票代號</th><td class=\"lColor\">2330</td>\n",
       "<th class=\"dColor nowrap\" style=\"text-align:left !important;\">產業類別</th>\n",
       "<td class=\"lColor\" nowrap=\"\">半導體業                 </td><th class=\"dColor nowrap\" style=\"text-align:left !important;\">外國企業註冊地國</th>\n",
       "<td class=\"lColor nowrap\" colspan=\"2\" style=\"text-align:center !important; font-family:arial;\">－</td>\n",
       "<tr>\n",
       "<th class=\"dColor nowrap\" colspan=\"2\" style=\"text-align:left !important;\">公司名稱</th>\n",
       "<td class=\"lColor\">台灣積體電路製造股份有限公司</td><th class=\"dColor nowrap\" colspan=\"2\" style=\"text-align:left !important;\">總機</th>\n",
       "<td class=\"lColor\" colspan=\"2\">03-5636688</td><tr>\n",
       "<th class=\"dColor nowrap\" colspan=\"2\" style=\"text-align:left !important;\">地址</th>\n",
       "<td class=\"lColor\" colspan=\"5\">新竹科學園區力行六路8號</td><tr>\n",
       "<th class=\"dColor nowrap\" colspan=\"2\" style=\"text-align:left !important;\">董事長</th>\n",
       "<td class=\"lColor\">劉德音</td><th class=\"dColor nowrap\" colspan=\"2\" style=\"text-align:left !important;\">總經理</th>\n",
       "<td class=\"lColor\" colspan=\"2\">總裁: 魏哲家</td><tr>\n",
       "<th class=\"dColor nowrap\" colspan=\"2\" style=\"text-align:left !important;\">發言人</th>\n",
       "<td class=\"lColor\">黃仁昭</td><th class=\"dColor nowrap\" colspan=\"2\" style=\"text-align:left !important;\">發言人職稱</th>\n",
       "<td class=\"lColor\" colspan=\"2\">副總經理暨財務長</td><tr>\n",
       "<th class=\"dColor nowrap\" colspan=\"2\" style=\"text-align:left !important;\">發言人電話</th>\n",
       "<td class=\"lColor\">03-563-6688</td><th class=\"dColor nowrap\" colspan=\"2\" style=\"text-align:left !important;\">代理發言人</th>\n",
       "<td class=\"lColor\" colspan=\"2\">高孟華</td><tr>\n",
       "<th class=\"dColor nowrap\" colspan=\"2\" style=\"text-align:left !important;\">主要經營業務</th>\n",
       "<td class=\"lColor\" colspan=\"5\">依客戶之訂單與其提供之產品設計說明，以從事製造與銷售積體電路<br/>以及其他晶圓半導體裝置。提供前述產品之封裝與測試服務、積體電<br/>路之電腦輔助設計技術服務。提供製造光罩及其設計服務。</td><tr>\n",
       "<th class=\"dColor nowrap\" colspan=\"2\" style=\"text-align:left !important;\">公司成立日期</th>\n",
       "<td class=\"lColor\">76/02/21</td>\n",
       "<th class=\"dColor nowrap\" colspan=\"2\" style=\"text-align:left !important;\">營利事業統一編號</th>\n",
       "<td class=\"lColor\" colspan=\"2\">22099131</td><tr>\n",
       "<th class=\"dColor nowrap\" colspan=\"2\" style=\"text-align:left !important;\">實收資本額</th>\n",
       "<td class=\"lColor\">    259,303,804,580元</td>\n",
       "<th class=\"dColor nowrap\" colspan=\"2\" style=\"text-align:left !important;\">上市日期</th>\n",
       "<td class=\"lColor\" colspan=\"2\">83/09/05</td>\n",
       "<tr>\n",
       "<th class=\"dColor nowrap\" colspan=\"2\" style=\"text-align:left !important;\">上櫃日期</th>\n",
       "<td class=\"lColor\"> </td>\n",
       "<th class=\"dColor nowrap\" colspan=\"2\" style=\"text-align:left !important;\">興櫃日期</th>\n",
       "<td class=\"lColor\" colspan=\"2\"> </td>\n",
       "<tr>\n",
       "<th class=\"dColor nowrap\" colspan=\"2\" style=\"text-align:left !important;\">公開發行日期</th>\n",
       "<td class=\"lColor\"> </td>\n",
       "<th class=\"dColor nowrap\" colspan=\"2\" style=\"text-align:left !important;\">普通股每股面額</th>\n",
       "<td class=\"lColor\" colspan=\"2\">新台幣                 10.0000元</td><tr>\n",
       "<th class=\"dColor nowrap\" colspan=\"2\" style=\"text-align:left !important;\">已發行普通股數或TDR原股發行股數</th>\n",
       "<td class=\"lColor\">     25,930,380,458股\n",
       "(含私募                  0股)\n",
       "</td>\n",
       "<th class=\"dColor nowrap\" colspan=\"2\" style=\"text-align:left !important;\">特別股</th>\n",
       "<td class=\"lColor\" colspan=\"2\">                  0股</td>\n",
       "<tr>\n",
       "<th class=\"dColor nowrap\" colspan=\"2\" style=\"text-align:left !important;\">普通股盈餘分派或虧損撥補頻率</th>\n",
       "<td class=\"lColor\">每季</td>\n",
       "<th class=\"dColor nowrap\" colspan=\"2\" style=\"text-align:left !important;\">普通股年度 (含第4季或後半年度)現金股息及紅利決議層級</th>\n",
       "<td class=\"lColor\" colspan=\"2\">董事會</td>\n",
       "<tr>\n",
       "<th class=\"dColor nowrap\" colspan=\"2\" style=\"text-align:left !important;\">股票過戶機構</th>\n",
       "<td class=\"lColor\">中國信託商業銀行 代理部</td><th class=\"dColor nowrap\" colspan=\"2\" style=\"text-align:left !important;\">電話</th>\n",
       "<td class=\"lColor\" colspan=\"2\">02-6636-5566</td><tr>\n",
       "<th class=\"dColor nowrap\" colspan=\"2\" style=\"text-align:left !important;\">過戶地址</th>\n",
       "<td class=\"lColor\" colspan=\"5\">台北市重慶南路一段83號5樓</td><tr>\n",
       "<th class=\"dColor nowrap\" colspan=\"2\" style=\"text-align:left !important;\">簽證會計師事務所</th>\n",
       "<td class=\"lColor\" colspan=\"5\">勤業眾信聯合會計師事務所</td><tr>\n",
       "<th class=\"dColor nowrap\" colspan=\"2\" style=\"text-align:left !important;\">簽證會計師1</th>\n",
       "<td class=\"lColor\" colspan=\"5\">江美艷</td><tr>\n",
       "<th class=\"dColor nowrap\" colspan=\"2\" style=\"text-align:left !important;\">簽證會計師2</th>\n",
       "<td class=\"lColor\" colspan=\"5\">林尚志</td><tr>\n",
       "<th class=\"dColor nowrap\" colspan=\"2\" style=\"text-align:left !important;\">備註</th>\n",
       "<td class=\"lColor\" colspan=\"5\"> 　</td><tr>\n",
       "<th class=\"dColor nowrap\" style=\"text-align:left !important;\">本公司</th>\n",
       "<td class=\"lColor\">無</td>\n",
       "<th class=\"dColor nowrap\" style=\"text-align:left !important;\">特別股發行</th>\n",
       "<th class=\"dColor nowrap\" style=\"text-align:left !important;\">本公司</th>\n",
       "<td class=\"lColor\">有</td>\n",
       "<th class=\"dColor nowrap\" colspan=\"2\" style=\"text-align:left !important;\">公司債發行</th><tr>\n",
       "<th class=\"dColor nowrap\" colspan=\"2\" style=\"text-align:left !important;\">英文簡稱</th>\n",
       "<td class=\"lColor\" colspan=\"5\"> TSMC</td><tr><th class=\"dColor nowrap\" colspan=\"2\" style=\"text-align:left !important;\">英文全名</th>\n",
       "<td class=\"lColor\" colspan=\"5\"> Taiwan Semiconductor Manufacturing Co., Ltd.</td><tr><th class=\"dColor nowrap\" colspan=\"2\" style=\"text-align:left !important;\">英文通訊地址(街巷弄號)</th>\n",
       "<td class=\"lColor\" colspan=\"2\"> No. 8, Li-Hsin Rd. 6, Hsinchu Science Park,</td><th class=\"dColor nowrap\" colspan=\"2\" style=\"text-align:left !important;\">英文通訊地址(縣市國別)</th>\n",
       "<td class=\"lColor\" colspan=\"2\"> Hsin-Chu 30078, Taiwan, R.O.C.</td></tr><tr>\n",
       "<th class=\"dColor nowrap\" colspan=\"2\" style=\"text-align:left !important;\">傳真機號碼</th>\n",
       "<td class=\"lColor\"> 03-5797337</td><th class=\"dColor nowrap\" colspan=\"2\" style=\"text-align:left !important;\">電子郵件信箱</th>\n",
       "<td class=\"lColor\" colspan=\"2\"> invest@tsmc.com</td><tr><th class=\"dColor nowrap\" colspan=\"2\" style=\"text-align:left !important;\">公司網址</th>\n",
       "<td class=\"lColor\" colspan=\"5\"> <a href=\"Http://www.tsmc.com\" target=\"NEW_WINDOW\">Http://www.tsmc.com</a></td><tr><th class=\"dColor nowrap\" colspan=\"2\" style=\"text-align:left !important;\">投資人關係聯絡人</th>\n",
       "<td class=\"lColor\" colspan=\"2\"> 蘇志凱</td><th class=\"dColor nowrap\" colspan=\"2\" style=\"text-align:left !important;\">投資人關係聯絡人職稱</th>\n",
       "<td class=\"lColor\" colspan=\"2\"> 處長</td></tr><tr>\n",
       "<th class=\"dColor nowrap\" colspan=\"2\" style=\"text-align:left !important;\">投資人關係聯絡電話</th>\n",
       "<td class=\"lColor\"> 03-568-2089</td><th class=\"dColor nowrap\" colspan=\"2\" style=\"text-align:left !important;\">投資人關係電子郵件</th>\n",
       "<td class=\"lColor\" colspan=\"2\"> jeff_su@tsmc.com</td><tr><th class=\"dColor nowrap\" colspan=\"2\" style=\"text-align:left !important;\">公司網站內利害<br/>關係人專區網址</th>\n",
       "<td class=\"lColor\" colspan=\"5\"> <a href=\"https://esg.tsmc.com/csr/ch/CSR/stakeholder.html\" target=\"NEW_WINDOW\">https://esg.tsmc.com/csr/ch/CSR/stakeholder.html</a></td><tr><th class=\"dColor nowrap\" style=\"text-align:left !important;\">變更前名稱</th>\n",
       "<td class=\"lColor\"> </td><th class=\"dColor nowrap\" style=\"text-align:left !important;\">變更前簡稱</th>\n",
       "<td class=\"lColor\"> </td><th class=\"dColor nowrap\" style=\"text-align:left !important;\">公司名稱變更核准日期</th>\n",
       "<td class=\"lColor\" colspan=\"2\">0</td>\n",
       "</tr>\n",
       "</tr></tr></tr></tr></tr></tr></tr></tr></tr></tr></tr></tr></tr></tr></tr></tr></tr></tr></tr></tr></tr></tr></tr></tr></tr></tr></table>"
      ]
     },
     "execution_count": 3,
     "metadata": {},
     "output_type": "execute_result"
    }
   ],
   "source": [
    "soup = BeautifulSoup(resp.text, 'html.parser')\n",
    "\n",
    "# 取得有效table 第一個\n",
    "table = soup.find('table',{'class': 'hasBorder'})\n",
    "table"
   ]
  },
  {
   "cell_type": "code",
   "execution_count": 4,
   "id": "5057e4cb-c3b8-4b9c-bcde-6473a7372991",
   "metadata": {},
   "outputs": [],
   "source": [
    "# 取得資料\n",
    "data = []\n",
    "for th in table.find('tr').find_all('td'):\n",
    "    data.append(th.text)"
   ]
  },
  {
   "cell_type": "code",
   "execution_count": 5,
   "id": "021b06ff-d75e-467a-8473-c4ad36f53138",
   "metadata": {},
   "outputs": [],
   "source": [
    "# 清理資料\n",
    "out = []\n",
    "for i in data:\n",
    "    out.append(\"\".join(i.split()))"
   ]
  },
  {
   "cell_type": "code",
   "execution_count": 6,
   "id": "b1b9737a-76d3-4375-9e90-c04b92d5e7cd",
   "metadata": {
    "tags": []
   },
   "outputs": [],
   "source": [
    "# 處理欄位\n",
    "head = []\n",
    "for th in table.find('tr').find_all('th'):\n",
    "    if th.text != \"本公司\": # \"本公司會多出現兩次\"\n",
    "        head.append(th.text)"
   ]
  },
  {
   "cell_type": "code",
   "execution_count": 7,
   "id": "9ebfd003-e878-41c3-84f7-4f274a150d89",
   "metadata": {},
   "outputs": [
    {
     "name": "stdout",
     "output_type": "stream",
     "text": [
      "49 49\n"
     ]
    }
   ],
   "source": [
    "# 確認欄位與資料行數是否一致\n",
    "print(len(data),len(head))"
   ]
  },
  {
   "cell_type": "code",
   "execution_count": 8,
   "id": "f71ab3be-0456-4627-b5f6-ddb3541d5392",
   "metadata": {},
   "outputs": [
    {
     "data": {
      "text/plain": [
       "{'股票代號': '2330',\n",
       " '產業類別': '半導體業',\n",
       " '外國企業註冊地國': '－',\n",
       " '公司名稱': '台灣積體電路製造股份有限公司',\n",
       " '總機': '03-5636688',\n",
       " '地址': '新竹科學園區力行六路8號',\n",
       " '董事長': '劉德音',\n",
       " '總經理': '總裁:魏哲家',\n",
       " '發言人': '黃仁昭',\n",
       " '發言人職稱': '副總經理暨財務長',\n",
       " '發言人電話': '03-563-6688',\n",
       " '代理發言人': '高孟華',\n",
       " '主要經營業務': '依客戶之訂單與其提供之產品設計說明，以從事製造與銷售積體電路以及其他晶圓半導體裝置。提供前述產品之封裝與測試服務、積體電路之電腦輔助設計技術服務。提供製造光罩及其設計服務。',\n",
       " '公司成立日期': '76/02/21',\n",
       " '營利事業統一編號': '22099131',\n",
       " '實收資本額': '259,303,804,580元',\n",
       " '上市日期': '83/09/05',\n",
       " '上櫃日期': '',\n",
       " '興櫃日期': '',\n",
       " '公開發行日期': '',\n",
       " '普通股每股面額': '新台幣10.0000元',\n",
       " '已發行普通股數或TDR原股發行股數': '25,930,380,458股(含私募0股)',\n",
       " '特別股': '0股',\n",
       " '普通股盈餘分派或虧損撥補頻率': '每季',\n",
       " '普通股年度 (含第4季或後半年度)現金股息及紅利決議層級': '董事會',\n",
       " '股票過戶機構': '中國信託商業銀行代理部',\n",
       " '電話': '02-6636-5566',\n",
       " '過戶地址': '台北市重慶南路一段83號5樓',\n",
       " '簽證會計師事務所': '勤業眾信聯合會計師事務所',\n",
       " '簽證會計師1': '江美艷',\n",
       " '簽證會計師2': '林尚志',\n",
       " '備註': '',\n",
       " '特別股發行': '無',\n",
       " '公司債發行': '有',\n",
       " '英文簡稱': 'TSMC',\n",
       " '英文全名': 'TaiwanSemiconductorManufacturingCo.,Ltd.',\n",
       " '英文通訊地址(街巷弄號)': 'No.8,Li-HsinRd.6,HsinchuSciencePark,',\n",
       " '英文通訊地址(縣市國別)': 'Hsin-Chu30078,Taiwan,R.O.C.',\n",
       " '傳真機號碼': '03-5797337',\n",
       " '電子郵件信箱': 'invest@tsmc.com',\n",
       " '公司網址': 'Http://www.tsmc.com',\n",
       " '投資人關係聯絡人': '蘇志凱',\n",
       " '投資人關係聯絡人職稱': '處長',\n",
       " '投資人關係聯絡電話': '03-568-2089',\n",
       " '投資人關係電子郵件': 'jeff_su@tsmc.com',\n",
       " '公司網站內利害關係人專區網址': 'https://esg.tsmc.com/csr/ch/CSR/stakeholder.html',\n",
       " '變更前名稱': '',\n",
       " '變更前簡稱': '',\n",
       " '公司名稱變更核准日期': '0'}"
      ]
     },
     "execution_count": 8,
     "metadata": {},
     "output_type": "execute_result"
    }
   ],
   "source": [
    "# 結合欄位與資料\n",
    "zipped = zip(head,out)\n",
    "dt = dict(list(zipped))\n",
    "dt"
   ]
  },
  {
   "cell_type": "code",
   "execution_count": null,
   "id": "33019faf-2a2a-4a36-be51-ac027abf49db",
   "metadata": {},
   "outputs": [],
   "source": []
  }
 ],
 "metadata": {
  "kernelspec": {
   "display_name": "spyder",
   "language": "python",
   "name": "spyder"
  },
  "language_info": {
   "codemirror_mode": {
    "name": "ipython",
    "version": 3
   },
   "file_extension": ".py",
   "mimetype": "text/x-python",
   "name": "python",
   "nbconvert_exporter": "python",
   "pygments_lexer": "ipython3",
   "version": "3.8.12"
  }
 },
 "nbformat": 4,
 "nbformat_minor": 5
}
