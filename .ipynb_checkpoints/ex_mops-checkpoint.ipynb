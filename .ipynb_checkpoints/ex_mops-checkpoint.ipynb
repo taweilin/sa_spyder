{
 "cells": [
  {
   "cell_type": "code",
   "execution_count": null,
   "id": "638962da-be45-4389-a9bf-cf2306377cab",
   "metadata": {},
   "outputs": [],
   "source": [
    "url = 'https://mops.twse.com.tw/mops/web/ajax_t05st03'\n",
    "headers = {'User-Agent': 'Mozilla/5.0 (Windows NT 10.0; Win64; x64) AppleWebKit/537.36 (KHTML, like Gecko) Chrome/96.0.4664.93 Safari/537.36'}\n",
    "payload = {\n",
    "    'encodeURIComponent':'1',\n",
    "    'step':'1',\n",
    "    'firstin':'1',\n",
    "    'off':'1',\n",
    "    'queryName':'co_id',\n",
    "    'inpuType':'co_id',\n",
    "    'TYPEK':'all',\n",
    "    'co_id':'2330',\n",
    "    }"
   ]
  }
 ],
 "metadata": {
  "kernelspec": {
   "display_name": "spyder",
   "language": "python",
   "name": "spyder"
  },
  "language_info": {
   "codemirror_mode": {
    "name": "ipython",
    "version": 3
   },
   "file_extension": ".py",
   "mimetype": "text/x-python",
   "name": "python",
   "nbconvert_exporter": "python",
   "pygments_lexer": "ipython3",
   "version": "3.8.12"
  }
 },
 "nbformat": 4,
 "nbformat_minor": 5
}
