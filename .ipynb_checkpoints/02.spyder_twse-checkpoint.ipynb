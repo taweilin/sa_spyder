{
 "cells": [
  {
   "cell_type": "markdown",
   "id": "235601fd-0de1-4864-8c21-5d584495f3a4",
   "metadata": {},
   "source": [
    "# 載入模組"
   ]
  },
  {
   "cell_type": "code",
   "execution_count": 1,
   "id": "8a7f1a3d-b4b1-48e6-8eda-3718c07714e9",
   "metadata": {},
   "outputs": [],
   "source": [
    "import requests\n",
    "from bs4 import BeautifulSoup\n",
    "import pandas as pd\n",
    "import json"
   ]
  },
  {
   "cell_type": "markdown",
   "id": "f63a8a1c-897b-44ef-b19a-f9eec448d737",
   "metadata": {},
   "source": [
    "# 取得網頁"
   ]
  },
  {
   "cell_type": "code",
   "execution_count": 2,
   "id": "96e69ec1-7e4a-4cc2-ae8b-e6b95f83ca7f",
   "metadata": {},
   "outputs": [
    {
     "data": {
      "text/plain": [
       "'{\"fields8\":[\"類型\",\"整體市場\",\"股票\"],\"subtitle8\":\"漲跌證券數合計\",\"data8\":[[\"上漲(漲停)\",\"4,228(11)\",\"439(7)\"],[\"下跌(跌停)\",\"6,094(30)\",\"405(0)\"],[\"持平\",\"758\",\"104\"],[\"未成交\",\"11,854\",\"4\"],[\"無比價\",\"2,122\",\"4\"]],\"fields7\":[\"成交統計\",\"成交金額(元)\",\"成交股數(股)\",\"成交筆數\"],\"date\":\"20211209\",\"subtitle7\":\"110年12月09日 大盤統計資訊\",\"notes8\":[\"\\\\\"漲跌價差\\\\\"為當日收盤價與前一日收盤價比較。\",\"\\\\\"無比價\\\\\"含前一日無收盤價、當日除權、除息、新上市、恢復交易者。\",\"外幣成交值係以本公司當日下午3時30分公告匯率換算後加入成交金額。<br>公告匯率請參考本公司首頁>產品與服務>交易系統>雙幣ETF專區>代號對應及每日公告匯率。\"],\"alignsStyle7\":[[\"center\",\"center\",\"center\",\"center\"],[\"left\",\"right\",\"right\",\"right\"],[16,8,8,6]],\"alignsStyle8\":[[\"center\",\"center\",\"center\"],[\"left\",\"right\",\"right\"],[16,12,12]],\"stat\":\"OK\",\"params\":{\"response\":\"json\",\"date\":\"20211209\",\"type\":\"MS\",\"_\":\"1639362468080\",\"controller\":\"exchangeReport\",\"format\":null,\"action\":\"MI_INDEX\",\"lang\":\"zh\"},\"data7\":[[\"1.一般股票\",\"312,863,177,874\",\"5,347,354,431\",\"2,399,801\"],[\"2.台灣存託憑證\",\"74,069,758\",\"13,675,609\",\"3,766\"],[\"3.受益憑證\",0,0,0],[\"4.ETF\",\"9,111,718,598\",\"411,953,647\",\"91,424\"],[\"5.受益證券\",\"7,074,227\",\"518,326\",\"171\"],[\"6.變更交易股票\",\"10,833,228\",\"2,470,761\",\"817\"],[\"7.認購(售)權證\",\"2,730,470,640\",\"2,182,262,000\",\"89,637\"],[\"8.轉換公司債\",0,0,0],[\"9.附認股權特別股\",0,0,0],[\"10.附認股權公司債\",0,0,0],[\"11.認股權憑證\",0,0,0],[\"12.公司債\",0,0,0],[\"13.ETN\",\"71,327,770\",\"12,308,000\",\"1,510\"],[\"14.創新板股票\",0,0,0],[\"15.創新板-變更交易方法股票\",0,0,0],[\"證券合計(1+6+14+15)\",\"312,874,011,102\",\"5,349,825,192\",\"2,400,618\"],[\"總計(1~15)\",\"324,868,672,095\",\"7,970,542,774\",\"2,587,126\"]]}'"
      ]
     },
     "execution_count": 2,
     "metadata": {},
     "output_type": "execute_result"
    }
   ],
   "source": [
    "url = 'https://www.twse.com.tw/exchangeReport/MI_INDEX?response=json&date=20211209&type=MS&_=1639362468080'\n",
    "headers = {'User-Agent': 'Mozilla/5.0 (Windows NT 10.0; Win64; x64) AppleWebKit/537.36 (KHTML, like Gecko) Chrome/96.0.4664.93 Safari/537.36'}\n",
    "\n",
    "resp = requests.get(url,headers = headers)\n",
    "resp.text"
   ]
  },
  {
   "cell_type": "markdown",
   "id": "a97103aa-f004-45b3-b300-54abac391f63",
   "metadata": {},
   "source": [
    "# 檢視JSON資料"
   ]
  },
  {
   "cell_type": "code",
   "execution_count": 3,
   "id": "8e5bfb78-60a1-4ab5-a34c-6edbc2470709",
   "metadata": {},
   "outputs": [
    {
     "data": {
      "text/plain": [
       "{'fields8': ['類型', '整體市場', '股票'],\n",
       " 'subtitle8': '漲跌證券數合計',\n",
       " 'data8': [['上漲(漲停)', '4,228(11)', '439(7)'],\n",
       "  ['下跌(跌停)', '6,094(30)', '405(0)'],\n",
       "  ['持平', '758', '104'],\n",
       "  ['未成交', '11,854', '4'],\n",
       "  ['無比價', '2,122', '4']],\n",
       " 'fields7': ['成交統計', '成交金額(元)', '成交股數(股)', '成交筆數'],\n",
       " 'date': '20211209',\n",
       " 'subtitle7': '110年12月09日 大盤統計資訊',\n",
       " 'notes8': ['\"漲跌價差\"為當日收盤價與前一日收盤價比較。',\n",
       "  '\"無比價\"含前一日無收盤價、當日除權、除息、新上市、恢復交易者。',\n",
       "  '外幣成交值係以本公司當日下午3時30分公告匯率換算後加入成交金額。<br>公告匯率請參考本公司首頁>產品與服務>交易系統>雙幣ETF專區>代號對應及每日公告匯率。'],\n",
       " 'alignsStyle7': [['center', 'center', 'center', 'center'],\n",
       "  ['left', 'right', 'right', 'right'],\n",
       "  [16, 8, 8, 6]],\n",
       " 'alignsStyle8': [['center', 'center', 'center'],\n",
       "  ['left', 'right', 'right'],\n",
       "  [16, 12, 12]],\n",
       " 'stat': 'OK',\n",
       " 'params': {'response': 'json',\n",
       "  'date': '20211209',\n",
       "  'type': 'MS',\n",
       "  '_': '1639362468080',\n",
       "  'controller': 'exchangeReport',\n",
       "  'format': None,\n",
       "  'action': 'MI_INDEX',\n",
       "  'lang': 'zh'},\n",
       " 'data7': [['1.一般股票', '312,863,177,874', '5,347,354,431', '2,399,801'],\n",
       "  ['2.台灣存託憑證', '74,069,758', '13,675,609', '3,766'],\n",
       "  ['3.受益憑證', 0, 0, 0],\n",
       "  ['4.ETF', '9,111,718,598', '411,953,647', '91,424'],\n",
       "  ['5.受益證券', '7,074,227', '518,326', '171'],\n",
       "  ['6.變更交易股票', '10,833,228', '2,470,761', '817'],\n",
       "  ['7.認購(售)權證', '2,730,470,640', '2,182,262,000', '89,637'],\n",
       "  ['8.轉換公司債', 0, 0, 0],\n",
       "  ['9.附認股權特別股', 0, 0, 0],\n",
       "  ['10.附認股權公司債', 0, 0, 0],\n",
       "  ['11.認股權憑證', 0, 0, 0],\n",
       "  ['12.公司債', 0, 0, 0],\n",
       "  ['13.ETN', '71,327,770', '12,308,000', '1,510'],\n",
       "  ['14.創新板股票', 0, 0, 0],\n",
       "  ['15.創新板-變更交易方法股票', 0, 0, 0],\n",
       "  ['證券合計(1+6+14+15)', '312,874,011,102', '5,349,825,192', '2,400,618'],\n",
       "  ['總計(1~15)', '324,868,672,095', '7,970,542,774', '2,587,126']]}"
      ]
     },
     "execution_count": 3,
     "metadata": {},
     "output_type": "execute_result"
    }
   ],
   "source": [
    "info = json.loads(resp.text)\n",
    "info"
   ]
  },
  {
   "cell_type": "code",
   "execution_count": 4,
   "id": "7abc0708-f005-40ce-92bb-bc009ccf934f",
   "metadata": {},
   "outputs": [
    {
     "data": {
      "text/plain": [
       "'20211209'"
      ]
     },
     "execution_count": 4,
     "metadata": {},
     "output_type": "execute_result"
    }
   ],
   "source": [
    "info['date']"
   ]
  },
  {
   "cell_type": "code",
   "execution_count": 5,
   "id": "98e01dad-cbb2-4a1e-9379-f254ec61fccd",
   "metadata": {},
   "outputs": [
    {
     "data": {
      "text/plain": [
       "['成交統計', '成交金額(元)', '成交股數(股)', '成交筆數']"
      ]
     },
     "execution_count": 5,
     "metadata": {},
     "output_type": "execute_result"
    }
   ],
   "source": [
    "info['fields7']"
   ]
  },
  {
   "cell_type": "code",
   "execution_count": 6,
   "id": "cddfe682-a12b-41d5-893a-02e3cd0b9a0b",
   "metadata": {},
   "outputs": [
    {
     "data": {
      "text/plain": [
       "[['1.一般股票', '312,863,177,874', '5,347,354,431', '2,399,801'],\n",
       " ['2.台灣存託憑證', '74,069,758', '13,675,609', '3,766'],\n",
       " ['3.受益憑證', 0, 0, 0],\n",
       " ['4.ETF', '9,111,718,598', '411,953,647', '91,424'],\n",
       " ['5.受益證券', '7,074,227', '518,326', '171'],\n",
       " ['6.變更交易股票', '10,833,228', '2,470,761', '817'],\n",
       " ['7.認購(售)權證', '2,730,470,640', '2,182,262,000', '89,637'],\n",
       " ['8.轉換公司債', 0, 0, 0],\n",
       " ['9.附認股權特別股', 0, 0, 0],\n",
       " ['10.附認股權公司債', 0, 0, 0],\n",
       " ['11.認股權憑證', 0, 0, 0],\n",
       " ['12.公司債', 0, 0, 0],\n",
       " ['13.ETN', '71,327,770', '12,308,000', '1,510'],\n",
       " ['14.創新板股票', 0, 0, 0],\n",
       " ['15.創新板-變更交易方法股票', 0, 0, 0],\n",
       " ['證券合計(1+6+14+15)', '312,874,011,102', '5,349,825,192', '2,400,618'],\n",
       " ['總計(1~15)', '324,868,672,095', '7,970,542,774', '2,587,126']]"
      ]
     },
     "execution_count": 6,
     "metadata": {},
     "output_type": "execute_result"
    }
   ],
   "source": [
    "info['data7']"
   ]
  },
  {
   "cell_type": "code",
   "execution_count": 7,
   "id": "cb48bca3-8f53-4838-9829-2926dd038784",
   "metadata": {},
   "outputs": [
    {
     "data": {
      "text/plain": [
       "{'response': 'json',\n",
       " 'date': '20211209',\n",
       " 'type': 'MS',\n",
       " '_': '1639362468080',\n",
       " 'controller': 'exchangeReport',\n",
       " 'format': None,\n",
       " 'action': 'MI_INDEX',\n",
       " 'lang': 'zh'}"
      ]
     },
     "execution_count": 7,
     "metadata": {},
     "output_type": "execute_result"
    }
   ],
   "source": [
    "info['params']"
   ]
  },
  {
   "cell_type": "code",
   "execution_count": 8,
   "id": "cb1e0c0a-0e0d-4a54-bec4-f04fadfa5afb",
   "metadata": {},
   "outputs": [
    {
     "data": {
      "text/plain": [
       "'zh'"
      ]
     },
     "execution_count": 8,
     "metadata": {},
     "output_type": "execute_result"
    }
   ],
   "source": [
    "info['params']['lang']"
   ]
  },
  {
   "cell_type": "markdown",
   "id": "b1e2d064-c513-4197-aea4-8020e71d7cf9",
   "metadata": {},
   "source": [
    "# 處理JSON資料"
   ]
  },
  {
   "cell_type": "code",
   "execution_count": 9,
   "id": "b617c20d-206a-463e-9d71-7226a8318943",
   "metadata": {},
   "outputs": [
    {
     "data": {
      "text/plain": [
       "'20211209'"
      ]
     },
     "execution_count": 9,
     "metadata": {},
     "output_type": "execute_result"
    }
   ],
   "source": [
    "# 取得日期\n",
    "date = info['date']\n",
    "date"
   ]
  },
  {
   "cell_type": "code",
   "execution_count": 10,
   "id": "46217fc0-e7ac-4994-a75d-dee26790c8a0",
   "metadata": {},
   "outputs": [
    {
     "data": {
      "text/html": [
       "<div>\n",
       "<style scoped>\n",
       "    .dataframe tbody tr th:only-of-type {\n",
       "        vertical-align: middle;\n",
       "    }\n",
       "\n",
       "    .dataframe tbody tr th {\n",
       "        vertical-align: top;\n",
       "    }\n",
       "\n",
       "    .dataframe thead th {\n",
       "        text-align: right;\n",
       "    }\n",
       "</style>\n",
       "<table border=\"1\" class=\"dataframe\">\n",
       "  <thead>\n",
       "    <tr style=\"text-align: right;\">\n",
       "      <th></th>\n",
       "      <th>成交統計</th>\n",
       "      <th>成交金額(元)</th>\n",
       "      <th>成交股數(股)</th>\n",
       "      <th>成交筆數</th>\n",
       "    </tr>\n",
       "  </thead>\n",
       "  <tbody>\n",
       "    <tr>\n",
       "      <th>0</th>\n",
       "      <td>1.一般股票</td>\n",
       "      <td>312,863,177,874</td>\n",
       "      <td>5,347,354,431</td>\n",
       "      <td>2,399,801</td>\n",
       "    </tr>\n",
       "    <tr>\n",
       "      <th>1</th>\n",
       "      <td>2.台灣存託憑證</td>\n",
       "      <td>74,069,758</td>\n",
       "      <td>13,675,609</td>\n",
       "      <td>3,766</td>\n",
       "    </tr>\n",
       "    <tr>\n",
       "      <th>2</th>\n",
       "      <td>3.受益憑證</td>\n",
       "      <td>0</td>\n",
       "      <td>0</td>\n",
       "      <td>0</td>\n",
       "    </tr>\n",
       "    <tr>\n",
       "      <th>3</th>\n",
       "      <td>4.ETF</td>\n",
       "      <td>9,111,718,598</td>\n",
       "      <td>411,953,647</td>\n",
       "      <td>91,424</td>\n",
       "    </tr>\n",
       "    <tr>\n",
       "      <th>4</th>\n",
       "      <td>5.受益證券</td>\n",
       "      <td>7,074,227</td>\n",
       "      <td>518,326</td>\n",
       "      <td>171</td>\n",
       "    </tr>\n",
       "    <tr>\n",
       "      <th>5</th>\n",
       "      <td>6.變更交易股票</td>\n",
       "      <td>10,833,228</td>\n",
       "      <td>2,470,761</td>\n",
       "      <td>817</td>\n",
       "    </tr>\n",
       "    <tr>\n",
       "      <th>6</th>\n",
       "      <td>7.認購(售)權證</td>\n",
       "      <td>2,730,470,640</td>\n",
       "      <td>2,182,262,000</td>\n",
       "      <td>89,637</td>\n",
       "    </tr>\n",
       "    <tr>\n",
       "      <th>7</th>\n",
       "      <td>8.轉換公司債</td>\n",
       "      <td>0</td>\n",
       "      <td>0</td>\n",
       "      <td>0</td>\n",
       "    </tr>\n",
       "    <tr>\n",
       "      <th>8</th>\n",
       "      <td>9.附認股權特別股</td>\n",
       "      <td>0</td>\n",
       "      <td>0</td>\n",
       "      <td>0</td>\n",
       "    </tr>\n",
       "    <tr>\n",
       "      <th>9</th>\n",
       "      <td>10.附認股權公司債</td>\n",
       "      <td>0</td>\n",
       "      <td>0</td>\n",
       "      <td>0</td>\n",
       "    </tr>\n",
       "    <tr>\n",
       "      <th>10</th>\n",
       "      <td>11.認股權憑證</td>\n",
       "      <td>0</td>\n",
       "      <td>0</td>\n",
       "      <td>0</td>\n",
       "    </tr>\n",
       "    <tr>\n",
       "      <th>11</th>\n",
       "      <td>12.公司債</td>\n",
       "      <td>0</td>\n",
       "      <td>0</td>\n",
       "      <td>0</td>\n",
       "    </tr>\n",
       "    <tr>\n",
       "      <th>12</th>\n",
       "      <td>13.ETN</td>\n",
       "      <td>71,327,770</td>\n",
       "      <td>12,308,000</td>\n",
       "      <td>1,510</td>\n",
       "    </tr>\n",
       "    <tr>\n",
       "      <th>13</th>\n",
       "      <td>14.創新板股票</td>\n",
       "      <td>0</td>\n",
       "      <td>0</td>\n",
       "      <td>0</td>\n",
       "    </tr>\n",
       "    <tr>\n",
       "      <th>14</th>\n",
       "      <td>15.創新板-變更交易方法股票</td>\n",
       "      <td>0</td>\n",
       "      <td>0</td>\n",
       "      <td>0</td>\n",
       "    </tr>\n",
       "    <tr>\n",
       "      <th>15</th>\n",
       "      <td>證券合計(1+6+14+15)</td>\n",
       "      <td>312,874,011,102</td>\n",
       "      <td>5,349,825,192</td>\n",
       "      <td>2,400,618</td>\n",
       "    </tr>\n",
       "    <tr>\n",
       "      <th>16</th>\n",
       "      <td>總計(1~15)</td>\n",
       "      <td>324,868,672,095</td>\n",
       "      <td>7,970,542,774</td>\n",
       "      <td>2,587,126</td>\n",
       "    </tr>\n",
       "  </tbody>\n",
       "</table>\n",
       "</div>"
      ],
      "text/plain": [
       "               成交統計          成交金額(元)        成交股數(股)       成交筆數\n",
       "0            1.一般股票  312,863,177,874  5,347,354,431  2,399,801\n",
       "1          2.台灣存託憑證       74,069,758     13,675,609      3,766\n",
       "2            3.受益憑證                0              0          0\n",
       "3             4.ETF    9,111,718,598    411,953,647     91,424\n",
       "4            5.受益證券        7,074,227        518,326        171\n",
       "5          6.變更交易股票       10,833,228      2,470,761        817\n",
       "6         7.認購(售)權證    2,730,470,640  2,182,262,000     89,637\n",
       "7           8.轉換公司債                0              0          0\n",
       "8         9.附認股權特別股                0              0          0\n",
       "9        10.附認股權公司債                0              0          0\n",
       "10         11.認股權憑證                0              0          0\n",
       "11           12.公司債                0              0          0\n",
       "12           13.ETN       71,327,770     12,308,000      1,510\n",
       "13         14.創新板股票                0              0          0\n",
       "14  15.創新板-變更交易方法股票                0              0          0\n",
       "15  證券合計(1+6+14+15)  312,874,011,102  5,349,825,192  2,400,618\n",
       "16         總計(1~15)  324,868,672,095  7,970,542,774  2,587,126"
      ]
     },
     "execution_count": 10,
     "metadata": {},
     "output_type": "execute_result"
    }
   ],
   "source": [
    "# 取得金額資料\n",
    "df = pd.DataFrame(info['data7'],columns=info['fields7'])\n",
    "df"
   ]
  },
  {
   "cell_type": "code",
   "execution_count": 11,
   "id": "388ead55-4baf-4783-8c18-63b02a974dcc",
   "metadata": {},
   "outputs": [
    {
     "data": {
      "text/html": [
       "<div>\n",
       "<style scoped>\n",
       "    .dataframe tbody tr th:only-of-type {\n",
       "        vertical-align: middle;\n",
       "    }\n",
       "\n",
       "    .dataframe tbody tr th {\n",
       "        vertical-align: top;\n",
       "    }\n",
       "\n",
       "    .dataframe thead th {\n",
       "        text-align: right;\n",
       "    }\n",
       "</style>\n",
       "<table border=\"1\" class=\"dataframe\">\n",
       "  <thead>\n",
       "    <tr style=\"text-align: right;\">\n",
       "      <th></th>\n",
       "      <th>類型</th>\n",
       "      <th>整體市場</th>\n",
       "      <th>股票</th>\n",
       "    </tr>\n",
       "  </thead>\n",
       "  <tbody>\n",
       "    <tr>\n",
       "      <th>0</th>\n",
       "      <td>上漲(漲停)</td>\n",
       "      <td>4,228(11)</td>\n",
       "      <td>439(7)</td>\n",
       "    </tr>\n",
       "    <tr>\n",
       "      <th>1</th>\n",
       "      <td>下跌(跌停)</td>\n",
       "      <td>6,094(30)</td>\n",
       "      <td>405(0)</td>\n",
       "    </tr>\n",
       "    <tr>\n",
       "      <th>2</th>\n",
       "      <td>持平</td>\n",
       "      <td>758</td>\n",
       "      <td>104</td>\n",
       "    </tr>\n",
       "    <tr>\n",
       "      <th>3</th>\n",
       "      <td>未成交</td>\n",
       "      <td>11,854</td>\n",
       "      <td>4</td>\n",
       "    </tr>\n",
       "    <tr>\n",
       "      <th>4</th>\n",
       "      <td>無比價</td>\n",
       "      <td>2,122</td>\n",
       "      <td>4</td>\n",
       "    </tr>\n",
       "  </tbody>\n",
       "</table>\n",
       "</div>"
      ],
      "text/plain": [
       "       類型       整體市場      股票\n",
       "0  上漲(漲停)  4,228(11)  439(7)\n",
       "1  下跌(跌停)  6,094(30)  405(0)\n",
       "2      持平        758     104\n",
       "3     未成交     11,854       4\n",
       "4     無比價      2,122       4"
      ]
     },
     "execution_count": 11,
     "metadata": {},
     "output_type": "execute_result"
    }
   ],
   "source": [
    "# 取得檔數資料\n",
    "df2 = pd.DataFrame(info['data8'],columns=info['fields8'])\n",
    "df2"
   ]
  },
  {
   "cell_type": "markdown",
   "id": "ba654f8f-4e5a-4fbe-967b-fa0eb5b32172",
   "metadata": {},
   "source": [
    "# 存檔"
   ]
  },
  {
   "cell_type": "code",
   "execution_count": 12,
   "id": "d4effec0-9e35-43e2-b59e-da3d3463f7b3",
   "metadata": {},
   "outputs": [],
   "source": [
    "df.to_csv(date + '_0.csv', index=False)\n",
    "df2.to_csv(date + '_1.csv', index=False)"
   ]
  },
  {
   "cell_type": "code",
   "execution_count": null,
   "id": "cc595e77-7b74-45af-9fc0-879c2e790334",
   "metadata": {},
   "outputs": [],
   "source": []
  }
 ],
 "metadata": {
  "kernelspec": {
   "display_name": "spyder",
   "language": "python",
   "name": "spyder"
  },
  "language_info": {
   "codemirror_mode": {
    "name": "ipython",
    "version": 3
   },
   "file_extension": ".py",
   "mimetype": "text/x-python",
   "name": "python",
   "nbconvert_exporter": "python",
   "pygments_lexer": "ipython3",
   "version": "3.8.12"
  }
 },
 "nbformat": 4,
 "nbformat_minor": 5
}
