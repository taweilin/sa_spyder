{
 "cells": [
  {
   "cell_type": "markdown",
   "id": "6d3bc760-525d-49b2-ad8a-91f69adc5c87",
   "metadata": {},
   "source": [
    "# 載入模組"
   ]
  },
  {
   "cell_type": "code",
   "execution_count": 1,
   "id": "de53a6b7-c1c1-44d6-90ee-d529bc80b932",
   "metadata": {},
   "outputs": [],
   "source": [
    "import requests\n",
    "from bs4 import BeautifulSoup\n",
    "import pandas as pd"
   ]
  },
  {
   "cell_type": "markdown",
   "id": "901aa3cd-9fcc-4504-acb1-6b642b192baf",
   "metadata": {},
   "source": [
    "# 取得網頁"
   ]
  },
  {
   "cell_type": "code",
   "execution_count": 2,
   "id": "ab3b4e3d-bce2-491a-8dc1-c5c8596098b5",
   "metadata": {},
   "outputs": [],
   "source": [
    "url = 'https://mops.twse.com.tw/mops/web/ajax_t05st03'\n",
    "headers = {'User-Agent': 'Mozilla/5.0 (Windows NT 10.0; Win64; x64) AppleWebKit/537.36 (KHTML, like Gecko) Chrome/96.0.4664.93 Safari/537.36'}\n",
    "payload = {\n",
    "    'encodeURIComponent':'1',\n",
    "    'step':'1',\n",
    "    'firstin':'1',\n",
    "    'off':'1',\n",
    "    'queryName':'co_id',\n",
    "    'inpuType':'co_id',\n",
    "    'TYPEK':'all',\n",
    "    'co_id':'2330',\n",
    "    }\n",
    "\n",
    "\n",
    "resp = requests.post(url, data=payload,headers = headers)"
   ]
  },
  {
   "cell_type": "markdown",
   "id": "568a1dbb-6303-45c3-820e-a517e2e3d41b",
   "metadata": {},
   "source": [
    "# 解析網頁"
   ]
  },
  {
   "cell_type": "code",
   "execution_count": 3,
   "id": "1df26c96-f67e-4a8e-a5b5-b79a32944b29",
   "metadata": {},
   "outputs": [
    {
     "data": {
      "text/plain": [
       "<table class=\"hasBorder\" width=\"95%\">\n",
       "<th class=\"dColor nowrap\" style=\"text-align:left !important;\">本公司採</th>\n",
       "<td class=\"lColor\"> </td><th class=\"dColor nowrap\" colspan=\"3\" style=\"text-align:left !important;\">月制會計年度（空白表曆年制）</th>\n",
       "<tr>\n",
       "<th class=\"dColor nowrap\" style=\"text-align:left !important;\">本公司於</th>\n",
       "<td class=\"lColor\"> </td><th class=\"dColor nowrap\" style=\"text-align:left !important;\">之前採</th>\n",
       "<td> </td><th class=\"dColor nowrap\" style=\"text-align:left !important;\">月制會計年度</th>\n",
       "</tr>\n",
       "<tr>\n",
       "<th class=\"dColor nowrap\" colspan=\"2\" style=\"text-align:left !important;\">編製財務報告類型</th>\n",
       "<td class=\"lColor\" colspan=\"3\" style=\"text-align:left !important;\">\n",
       "●合併○個別\n",
       "</td>\n",
       "</tr>\n",
       "</table>"
      ]
     },
     "execution_count": 3,
     "metadata": {},
     "output_type": "execute_result"
    }
   ],
   "source": [
    "soup = BeautifulSoup(resp.text, 'html.parser')\n",
    "\n",
    "# 取得全部有效table\n",
    "table = soup.find_all('table',{'class': 'hasBorder'})\n",
    "table[1]"
   ]
  },
  {
   "cell_type": "code",
   "execution_count": 4,
   "id": "089a0646-9a77-4ce7-8faa-0706deaadafa",
   "metadata": {},
   "outputs": [],
   "source": [
    "# 第一個table\n",
    "\n",
    "# 取得資料\n",
    "data = [th.text.replace('\\n', '') for th in table[0].find('tr').find_all('td')]\n",
    "# 清理資料\n",
    "out = [\"\".join(i.split()) for i in data ]\n",
    "# 處理欄位\n",
    "head = [th.text.replace('\\n', '') for th in table[0].find('tr').find_all('th') if th.text != \"本公司\"]"
   ]
  },
  {
   "cell_type": "code",
   "execution_count": 5,
   "id": "a4c639fb-1707-4e0d-91ca-a9cf65c14654",
   "metadata": {},
   "outputs": [],
   "source": [
    "# 第二個table\n",
    "\n",
    "# 取得資料\n",
    "data2 = [th.text.replace('\\n', '') for th in table[1].find_all('td')]\n",
    "# 清理資料\n",
    "out2 = [\"\".join(i.split()) for i in data2 ]\n",
    "# 處理欄位\n",
    "head2 = [th.text.replace('\\n', '') for th in table[1].find_all('th')  if \"本公司\" not in th.text]"
   ]
  },
  {
   "cell_type": "code",
   "execution_count": 6,
   "id": "80cd2a91-f858-4551-b388-00719a13afa7",
   "metadata": {},
   "outputs": [
    {
     "data": {
      "text/plain": [
       "['', '', '', '●合併○個別']"
      ]
     },
     "execution_count": 6,
     "metadata": {},
     "output_type": "execute_result"
    }
   ],
   "source": [
    "out2"
   ]
  },
  {
   "cell_type": "code",
   "execution_count": 7,
   "id": "e999f02d-9549-4598-bbd6-1564d02cfaf0",
   "metadata": {},
   "outputs": [
    {
     "data": {
      "text/plain": [
       "['月制會計年度（空白表曆年制）', '之前採', '月制會計年度', '編製財務報告類型']"
      ]
     },
     "execution_count": 7,
     "metadata": {},
     "output_type": "execute_result"
    }
   ],
   "source": [
    "head2"
   ]
  },
  {
   "cell_type": "code",
   "execution_count": 8,
   "id": "54aff09b-717a-4cf6-b071-fdc38c809bb2",
   "metadata": {},
   "outputs": [],
   "source": [
    "# 合併兩段table資料與欄位\n",
    "columns = head + head2\n",
    "rowdata = out + out2"
   ]
  },
  {
   "cell_type": "code",
   "execution_count": 9,
   "id": "f71ab3be-0456-4627-b5f6-ddb3541d5392",
   "metadata": {},
   "outputs": [
    {
     "data": {
      "text/html": [
       "<div>\n",
       "<style scoped>\n",
       "    .dataframe tbody tr th:only-of-type {\n",
       "        vertical-align: middle;\n",
       "    }\n",
       "\n",
       "    .dataframe tbody tr th {\n",
       "        vertical-align: top;\n",
       "    }\n",
       "\n",
       "    .dataframe thead th {\n",
       "        text-align: right;\n",
       "    }\n",
       "</style>\n",
       "<table border=\"1\" class=\"dataframe\">\n",
       "  <thead>\n",
       "    <tr style=\"text-align: right;\">\n",
       "      <th></th>\n",
       "      <th>股票代號</th>\n",
       "      <th>產業類別</th>\n",
       "      <th>外國企業註冊地國</th>\n",
       "      <th>公司名稱</th>\n",
       "      <th>總機</th>\n",
       "      <th>地址</th>\n",
       "      <th>董事長</th>\n",
       "      <th>總經理</th>\n",
       "      <th>發言人</th>\n",
       "      <th>發言人職稱</th>\n",
       "      <th>...</th>\n",
       "      <th>投資人關係聯絡電話</th>\n",
       "      <th>投資人關係電子郵件</th>\n",
       "      <th>公司網站內利害關係人專區網址</th>\n",
       "      <th>變更前名稱</th>\n",
       "      <th>變更前簡稱</th>\n",
       "      <th>公司名稱變更核准日期</th>\n",
       "      <th>月制會計年度（空白表曆年制）</th>\n",
       "      <th>之前採</th>\n",
       "      <th>月制會計年度</th>\n",
       "      <th>編製財務報告類型</th>\n",
       "    </tr>\n",
       "  </thead>\n",
       "  <tbody>\n",
       "    <tr>\n",
       "      <th>0</th>\n",
       "      <td>2330</td>\n",
       "      <td>半導體業</td>\n",
       "      <td>－</td>\n",
       "      <td>台灣積體電路製造股份有限公司</td>\n",
       "      <td>03-5636688</td>\n",
       "      <td>新竹科學園區力行六路8號</td>\n",
       "      <td>劉德音</td>\n",
       "      <td>總裁:魏哲家</td>\n",
       "      <td>黃仁昭</td>\n",
       "      <td>副總經理暨財務長</td>\n",
       "      <td>...</td>\n",
       "      <td>03-568-2089</td>\n",
       "      <td>jeff_su@tsmc.com</td>\n",
       "      <td>https://esg.tsmc.com/csr/ch/CSR/stakeholder.html</td>\n",
       "      <td></td>\n",
       "      <td></td>\n",
       "      <td>0</td>\n",
       "      <td></td>\n",
       "      <td></td>\n",
       "      <td></td>\n",
       "      <td>●合併○個別</td>\n",
       "    </tr>\n",
       "  </tbody>\n",
       "</table>\n",
       "<p>1 rows × 53 columns</p>\n",
       "</div>"
      ],
      "text/plain": [
       "   股票代號  產業類別 外國企業註冊地國            公司名稱          總機            地址  董事長     總經理  \\\n",
       "0  2330  半導體業        －  台灣積體電路製造股份有限公司  03-5636688  新竹科學園區力行六路8號  劉德音  總裁:魏哲家   \n",
       "\n",
       "   發言人     發言人職稱  ...    投資人關係聯絡電話         投資人關係電子郵件  \\\n",
       "0  黃仁昭  副總經理暨財務長  ...  03-568-2089  jeff_su@tsmc.com   \n",
       "\n",
       "                                     公司網站內利害關係人專區網址 變更前名稱 變更前簡稱 公司名稱變更核准日期  \\\n",
       "0  https://esg.tsmc.com/csr/ch/CSR/stakeholder.html                      0   \n",
       "\n",
       "  月制會計年度（空白表曆年制） 之前採 月制會計年度 編製財務報告類型  \n",
       "0                             ●合併○個別  \n",
       "\n",
       "[1 rows x 53 columns]"
      ]
     },
     "execution_count": 9,
     "metadata": {},
     "output_type": "execute_result"
    }
   ],
   "source": [
    "# list在dataframe預設為column資料，所以傳入時，用[]強制為行資料\n",
    "df = pd.DataFrame([rowdata],columns=columns)\n",
    "df"
   ]
  },
  {
   "cell_type": "code",
   "execution_count": 10,
   "id": "86a24991-04db-4052-b914-9a25ee7f3273",
   "metadata": {},
   "outputs": [],
   "source": [
    "# 存檔\n",
    "df.to_csv('2330_05.csv',index=False)"
   ]
  },
  {
   "cell_type": "code",
   "execution_count": null,
   "id": "4d2e4334-2531-4de4-81e2-9d5432f10706",
   "metadata": {},
   "outputs": [],
   "source": []
  }
 ],
 "metadata": {
  "kernelspec": {
   "display_name": "spyder",
   "language": "python",
   "name": "spyder"
  },
  "language_info": {
   "codemirror_mode": {
    "name": "ipython",
    "version": 3
   },
   "file_extension": ".py",
   "mimetype": "text/x-python",
   "name": "python",
   "nbconvert_exporter": "python",
   "pygments_lexer": "ipython3",
   "version": "3.8.12"
  }
 },
 "nbformat": 4,
 "nbformat_minor": 5
}
